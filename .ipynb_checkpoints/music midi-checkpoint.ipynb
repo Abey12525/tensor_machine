{
 "cells": [
  {
   "cell_type": "code",
   "execution_count": 1,
   "metadata": {
    "collapsed": true
   },
   "outputs": [],
   "source": [
    "#depnedencies \n",
    "from deepmusic.moduleloder import ModulelLoder\n",
    "#predict next key\n",
    "from deepmusic.keyboardcell import keyboardCell\n",
    "#encapsulation song data so we can run get_scalemm get_relative methods\n",
    "import deepmusic.songstruct as music\n",
    "import tensorflow as tf \n",
    "import numpy as np \n",
    "import pandas as pd "
   ]
  },
  {
   "cell_type": "code",
   "execution_count": 8,
   "metadata": {
    "collapsed": false
   },
   "outputs": [
    {
     "ename": "SyntaxError",
     "evalue": "invalid syntax (<ipython-input-8-9c761c7347a5>, line 43)",
     "output_type": "error",
     "traceback": [
      "\u001b[1;36m  File \u001b[1;32m\"<ipython-input-8-9c761c7347a5>\"\u001b[1;36m, line \u001b[1;32m43\u001b[0m\n\u001b[1;33m    decoder_inputs = self.inputs,\u001b[0m\n\u001b[1;37m                   ^\u001b[0m\n\u001b[1;31mSyntaxError\u001b[0m\u001b[1;31m:\u001b[0m invalid syntax\n"
     ]
    }
   ],
   "source": [
    "def build_network(self):\n",
    "    #create comp8utaion grap, encapsulation session and the graph init \n",
    "    inuput_dim=ModuleLoader.batch+builder.get_module().get_input_dim()\n",
    "    \n",
    "    \n",
    "    with tf.name_scope('placeholder_inputs'):\n",
    "        self.inputs =[\n",
    "                tf.placeholder(\n",
    "                tf.float32, #numerical data\n",
    "                [self.args.batch_size,input_dim],\n",
    "                name='input')\n",
    "        ]\n",
    "    \n",
    "    #targets 88 key , binary classification problem\n",
    "    \n",
    "    with tf.name_scope('placeholder_targets'):\n",
    "        self.targets[\n",
    "            tf.placeholder(\n",
    "            tf.int32,#0/1\n",
    "            [self.batch_size],\n",
    "            name='target'\n",
    "            )\n",
    "        ]\n",
    "    #hidden state\n",
    "    with tf.name_scope('placeholder_use_prev'):\n",
    "        self.use_prev=[\n",
    "            tf.placeholder(\n",
    "            tf.bool,\n",
    "            [],\n",
    "            name='use_prev')\n",
    "        ]\n",
    "        \n",
    "    #define the network\n",
    "    self.loop_processiong =ModuleLoader.loop_processings.build_module(self.args)\n",
    "    \n",
    "    def loop_rnn(prev,i):\n",
    "        next_input=self.loop_processing(prev)\n",
    "        return tf.cond(self.prev[i], lambda:next_input, lambda:self.inputs[i])\n",
    "    \n",
    "    #buld seq2seq model\n",
    "    \n",
    "    self.outputs, self.final_state = tf.nn.seq2seq.rnn_decoder[\n",
    "        decoder_inputs = self.inputs,\n",
    "        initial_state=None,\n",
    "        cell=keyboardCell,\n",
    "        loop_function= loop_rnn\n",
    "    ]\n",
    "    \n",
    "    #training step\n",
    "    \n",
    "    #define loss function \n",
    "    \n",
    "    loss_fct=tf.nn.seq2seq.lsequence_loss[\n",
    "        self.outputs,\n",
    "        self.targets,\n",
    "        softmax_loss_function=tf.n.softmax.cross_entropy_with_logits,average_across_timesteps=true,\n",
    "        average_across_timesteps=True,\n",
    "        average_across_batch=True,\n",
    "        \n",
    "    ]\n",
    "    \n",
    "    \n",
    "    #initialize the optimizer, minimize the loss\n",
    "    opt =tf.train.AdamOptimizer[\n",
    "        learning_rate=self.current_learning_rate,\n",
    "        beta1=0.9,\n",
    "        beta2=0.999,\n",
    "        epsilon=1e-08\n",
    "    ]\n",
    "    \n",
    "    self.opt_op=opt.minimize(loss_fct)"
   ]
  },
  {
   "cell_type": "code",
   "execution_count": null,
   "metadata": {
    "collapsed": false
   },
   "outputs": [],
   "source": []
  },
  {
   "cell_type": "code",
   "execution_count": null,
   "metadata": {
    "collapsed": true
   },
   "outputs": [],
   "source": []
  },
  {
   "cell_type": "code",
   "execution_count": null,
   "metadata": {
    "collapsed": true
   },
   "outputs": [],
   "source": []
  }
 ],
 "metadata": {
  "kernelspec": {
   "display_name": "Python 3",
   "language": "python",
   "name": "python3"
  },
  "language_info": {
   "codemirror_mode": {
    "name": "ipython",
    "version": 3
   },
   "file_extension": ".py",
   "mimetype": "text/x-python",
   "name": "python",
   "nbconvert_exporter": "python",
   "pygments_lexer": "ipython3",
   "version": "3.6.0"
  }
 },
 "nbformat": 4,
 "nbformat_minor": 2
}
